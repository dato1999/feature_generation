{
 "cells": [
  {
   "cell_type": "markdown",
   "metadata": {},
   "source": [
    "# import"
   ]
  },
  {
   "cell_type": "code",
   "execution_count": null,
   "metadata": {},
   "outputs": [],
   "source": [
    "import pandas as pd\n",
    "import numpy as np\n",
    "import json\n",
    "import datetime"
   ]
  },
  {
   "cell_type": "markdown",
   "metadata": {},
   "source": [
    "# date"
   ]
  },
  {
   "cell_type": "code",
   "execution_count": null,
   "metadata": {},
   "outputs": [],
   "source": [
    "dt=datetime.datetime.now()"
   ]
  },
  {
   "cell_type": "markdown",
   "metadata": {},
   "source": [
    "# inital data"
   ]
  },
  {
   "cell_type": "code",
   "execution_count": null,
   "metadata": {},
   "outputs": [],
   "source": [
    "df=pd.read_csv(\"data.csv\")"
   ]
  },
  {
   "cell_type": "code",
   "execution_count": null,
   "metadata": {},
   "outputs": [],
   "source": [
    "df_f=df[[\"id\",\"contracts\"]]\n",
    "df_f[\"contracts\"]=~df_f[\"contracts\"].isna()"
   ]
  },
  {
   "cell_type": "code",
   "execution_count": null,
   "metadata": {},
   "outputs": [],
   "source": [
    "df_j=df[\"contracts\"]\n",
    "df_j=df_j.fillna(\"[]\")\n",
    "df_j=df_j.where(df_j.isna(),df_j.apply(lambda x: json.loads(x)),axis=0)"
   ]
  },
  {
   "cell_type": "code",
   "execution_count": null,
   "metadata": {},
   "outputs": [],
   "source": [
    "df[\"contracts\"]=df_j"
   ]
  },
  {
   "cell_type": "code",
   "execution_count": null,
   "metadata": {},
   "outputs": [],
   "source": [
    "df=df.explode(\"contracts\")\n",
    "df=df.reset_index()\n",
    "df=df[[\"id\",\"date_start\"]].join(pd.json_normalize(df[\"contracts\"]))"
   ]
  },
  {
   "cell_type": "code",
   "execution_count": null,
   "metadata": {},
   "outputs": [],
   "source": [
    "df.loc[df[\"loan_summa\"]==\"\",[\"loan_summa\"]]=0"
   ]
  },
  {
   "cell_type": "code",
   "execution_count": null,
   "metadata": {},
   "outputs": [],
   "source": [
    "df[\"date_start\"]=df[\"date_start\"].str[:10]"
   ]
  },
  {
   "cell_type": "code",
   "execution_count": null,
   "metadata": {},
   "outputs": [],
   "source": [
    "df[\"date_start\"]=pd.to_datetime(df[\"date_start\"],format=\"%Y-%m-%d\")\n",
    "df[\"claim_date\"]=pd.to_datetime(df[\"claim_date\"],format=\"%d.%m.%Y\")\n",
    "df[\"contract_date\"]=pd.to_datetime(df[\"contract_date\"],format=\"%d.%m.%Y\")\n",
    "df[\"loan_summa\"]=df[\"loan_summa\"].astype(\"double\")\n"
   ]
  },
  {
   "cell_type": "code",
   "execution_count": null,
   "metadata": {},
   "outputs": [],
   "source": [
    "df.loc[df[\"claim_date\"]>df[\"date_start\"],[\"claim_date\"]]=df[\"date_start\"]\n",
    "df.loc[df[\"contract_date\"]>df[\"date_start\"],[\"contract_date\"]]=df[\"date_start\"]"
   ]
  },
  {
   "cell_type": "code",
   "execution_count": null,
   "metadata": {},
   "outputs": [],
   "source": []
  },
  {
   "cell_type": "code",
   "execution_count": null,
   "metadata": {},
   "outputs": [],
   "source": [
    "# df.loc[df[\"contract_date\"].dt.strftime(\"%a\")=='Sat',\"contract_date\"]=df[\"contract_date\"]+datetime.timedelta(days=2)\n",
    "# df.loc[df[\"contract_date\"].dt.strftime(\"%a\")=='Sun',\"contract_date\"]=df[\"contract_date\"]+datetime.timedelta(days=1)\n",
    "\n",
    "# df.loc[df[\"claim_date\"].dt.strftime(\"%a\")=='Sat',\"claim_date\"]=df[\"claim_date\"]+datetime.timedelta(days=2)\n",
    "# df.loc[df[\"claim_date\"].dt.strftime(\"%a\")=='Sun',\"claim_date\"]=df[\"claim_date\"]+datetime.timedelta(days=1)"
   ]
  },
  {
   "cell_type": "markdown",
   "metadata": {},
   "source": [
    "# tot_claim_cnt_l180d"
   ]
  },
  {
   "cell_type": "code",
   "execution_count": null,
   "metadata": {},
   "outputs": [],
   "source": [
    "df1=df.loc[:,[\"id\",\"claim_id\",\"claim_date\"]]\n",
    "df1=df1[df1[\"claim_date\"]>dt-datetime.timedelta(days=180)]\n",
    "df1=df1.loc[~df1.claim_date.isna(),[\"id\",\"claim_id\"]]"
   ]
  },
  {
   "cell_type": "code",
   "execution_count": null,
   "metadata": {},
   "outputs": [],
   "source": [
    "df1=df1.groupby(\"id\").count().reset_index()"
   ]
  },
  {
   "cell_type": "code",
   "execution_count": null,
   "metadata": {},
   "outputs": [],
   "source": [
    "df1=df1.rename(columns={\"claim_id\":\"tot_claim_cnt_l180d\"})"
   ]
  },
  {
   "cell_type": "markdown",
   "metadata": {},
   "source": [
    "# disb_active_bank_loan_wo_tbc"
   ]
  },
  {
   "cell_type": "code",
   "execution_count": null,
   "metadata": {},
   "outputs": [],
   "source": [
    "df_2=df[~df[\"contract_date\"].isnull() & ~df[\"bank\"].isin(['LIZ', 'LOM', 'MKO', 'SUG', None])]"
   ]
  },
  {
   "cell_type": "code",
   "execution_count": null,
   "metadata": {},
   "outputs": [],
   "source": [
    "df2=df_2.groupby(\"id\").agg({\"loan_summa\":[\"sum\"]}).loan_summa.reset_index()"
   ]
  },
  {
   "cell_type": "code",
   "execution_count": null,
   "metadata": {},
   "outputs": [],
   "source": [
    "df2=df2.rename(columns={\"sum\":\"disb_active_bank_loan_wo_tbc\"})"
   ]
  },
  {
   "cell_type": "markdown",
   "metadata": {},
   "source": [
    "# day_sinlastloan"
   ]
  },
  {
   "cell_type": "code",
   "execution_count": null,
   "metadata": {},
   "outputs": [],
   "source": [
    "df3=df.loc[~df.summa.isna(),[\"id\",\"summa\",\"contract_date\"]]\n",
    "df3=df3[df3[\"summa\"]!=\"\"]"
   ]
  },
  {
   "cell_type": "code",
   "execution_count": null,
   "metadata": {},
   "outputs": [],
   "source": [
    "df3[\"days_diff\"]=dt-df3[\"contract_date\"]"
   ]
  },
  {
   "cell_type": "code",
   "execution_count": null,
   "metadata": {},
   "outputs": [],
   "source": [
    "df3[\"days_diff\"]=df3[\"days_diff\"]/ np.timedelta64(1, 'D')"
   ]
  },
  {
   "cell_type": "code",
   "execution_count": null,
   "metadata": {},
   "outputs": [],
   "source": [
    "df3=df3.groupby(\"id\")[\"days_diff\"].min().reset_index()"
   ]
  },
  {
   "cell_type": "code",
   "execution_count": null,
   "metadata": {},
   "outputs": [],
   "source": [
    "df3=df3.rename(columns={\"days_diff\":\"day_sinlastloan\"})"
   ]
  },
  {
   "cell_type": "markdown",
   "metadata": {},
   "source": [
    "# join"
   ]
  },
  {
   "cell_type": "code",
   "execution_count": null,
   "metadata": {},
   "outputs": [],
   "source": [
    "df_f=df_f.merge(df1,left_on=\"id\",right_on=\"id\",how=\"left\")\n",
    "df_f=df_f.merge(df2,left_on=\"id\",right_on=\"id\",how=\"left\")\n",
    "df_f=df_f.merge(df3,left_on=\"id\",right_on=\"id\",how=\"left\")"
   ]
  },
  {
   "cell_type": "code",
   "execution_count": null,
   "metadata": {},
   "outputs": [],
   "source": [
    "df_f[[\"disb_active_bank_loan_wo_tbc\",\"day_sinlastloan\"]]=df_f[[\"disb_active_bank_loan_wo_tbc\",\"day_sinlastloan\"]].fillna(-1)"
   ]
  },
  {
   "cell_type": "code",
   "execution_count": null,
   "metadata": {},
   "outputs": [],
   "source": [
    "df_f.loc[~df_f[\"contracts\"],\"disb_active_bank_loan_wo_tbc\"]=-3\n",
    "df_f.loc[~df_f[\"contracts\"],\"day_sinlastloan\"]=-3\n",
    "df_f.loc[~df_f[\"contracts\"],\"tot_claim_cnt_l180d\"]=-3"
   ]
  },
  {
   "cell_type": "code",
   "execution_count": null,
   "metadata": {},
   "outputs": [],
   "source": [
    "df_f=df_f.drop(\"contracts\",axis=1)"
   ]
  },
  {
   "cell_type": "markdown",
   "metadata": {},
   "source": [
    "# write"
   ]
  },
  {
   "cell_type": "code",
   "execution_count": null,
   "metadata": {},
   "outputs": [],
   "source": [
    "df_f.to_csv(\"contract_features.csv\",index=False)"
   ]
  },
  {
   "cell_type": "code",
   "execution_count": null,
   "metadata": {},
   "outputs": [],
   "source": []
  }
 ],
 "metadata": {
  "kernelspec": {
   "display_name": "Python 3",
   "language": "python",
   "name": "python3"
  },
  "language_info": {
   "codemirror_mode": {
    "name": "ipython",
    "version": 3
   },
   "file_extension": ".py",
   "mimetype": "text/x-python",
   "name": "python",
   "nbconvert_exporter": "python",
   "pygments_lexer": "ipython3",
   "version": "3.12.0"
  }
 },
 "nbformat": 4,
 "nbformat_minor": 2
}
